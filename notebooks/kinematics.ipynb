{
 "cells": [
  {
   "cell_type": "code",
   "execution_count": 1,
   "metadata": {},
   "outputs": [],
   "source": [
    "import numpy as np\n",
    "import roboticstoolbox as rtb\n",
    "from spatialmath import *\n",
    "from math import pi\n",
    "import matplotlib.pyplot as plt\n",
    "from matplotlib import cm\n",
    "np.set_printoptions(linewidth=100, formatter={'float': lambda x: f\"{x:8.4g}\" if abs(x) > 1e-10 else f\"{0:8.4g}\"})\n",
    "\n",
    "%matplotlib notebook"
   ]
  },
  {
   "cell_type": "markdown",
   "metadata": {},
   "source": [
    "The Toolbox supports models defined using a number of different conventions.  We will load a very classical model, a Puma560 robot defined in terms of standard Denavit-Hartenberg parameters"
   ]
  },
  {
   "cell_type": "code",
   "execution_count": 2,
   "metadata": {},
   "outputs": [],
   "source": [
    "p560 = rtb.models.DH.Puma560()"
   ]
  },
  {
   "cell_type": "markdown",
   "metadata": {},
   "source": [
    "Now we can display the simple Denavit-Hartenberg parameter model"
   ]
  },
  {
   "cell_type": "code",
   "execution_count": 3,
   "metadata": {},
   "outputs": [
    {
     "name": "stdout",
     "output_type": "stream",
     "text": [
      "DHRobot: Puma 560 (by Unimation), 6 joints (RRRRRR), dynamics, geometry, standard DH parameters\n",
      "┌────┬────────┬────────┬────────┬─────────┬────────┐\n",
      "│θⱼ  │   dⱼ   │   aⱼ   │   ⍺ⱼ   │   q⁻    │   q⁺   │\n",
      "├────┼────────┼────────┼────────┼─────────┼────────┤\n",
      "│ q1 │ 0.6718 │      0 │  90.0° │ -160.0° │ 160.0° │\n",
      "│ q2 │      0 │ 0.4318 │   0.0° │ -110.0° │ 110.0° │\n",
      "│ q3 │   0.15 │ 0.0203 │ -90.0° │ -135.0° │ 135.0° │\n",
      "│ q4 │ 0.4318 │      0 │  90.0° │ -266.0° │ 266.0° │\n",
      "│ q5 │      0 │      0 │ -90.0° │ -100.0° │ 100.0° │\n",
      "│ q6 │      0 │      0 │   0.0° │ -266.0° │ 266.0° │\n",
      "└────┴────────┴────────┴────────┴─────────┴────────┘\n",
      "\n",
      "┌─┬──┐\n",
      "└─┴──┘\n",
      "\n",
      "┌─────┬─────┬──────┬───────┬─────┬──────┬─────┐\n",
      "│name │ q0  │ q1   │ q2    │ q3  │ q4   │ q5  │\n",
      "├─────┼─────┼──────┼───────┼─────┼──────┼─────┤\n",
      "│  qr │  0° │  90° │ -90°  │  0° │  0°  │  0° │\n",
      "│  qz │  0° │  0°  │  0°   │  0° │  0°  │  0° │\n",
      "│  qn │  0° │  45° │  180° │  0° │  45° │  0° │\n",
      "│  qs │  0° │  0°  │ -90°  │  0° │  0°  │  0° │\n",
      "└─────┴─────┴──────┴───────┴─────┴──────┴─────┘\n",
      "\n"
     ]
    }
   ],
   "source": [
    "print(p560)"
   ]
  },
  {
   "cell_type": "markdown",
   "metadata": {},
   "source": [
    "The first table shows the kinematic parameters, and from the column titles we can see clearly that this is expressed in terms of standard Denavit-Hartenberg parameters.  The first column shows that the joint variables qi are rotations since they are in the θ column.  Joint limits are also shown.  Joint flip (motion in the opposite sense) would be indicated by the joint variable being shown as for example like `-q3`, and joint offsets by being shown as for example like `q2 + 45°`.\n",
    "\n",
    "The second table shows some named joint configurations.  For example `p560.qr` is "
   ]
  },
  {
   "cell_type": "code",
   "execution_count": 4,
   "metadata": {},
   "outputs": [
    {
     "data": {
      "text/plain": "array([       0,    1.571,   -1.571,        0,        0,        0])"
     },
     "execution_count": 4,
     "metadata": {},
     "output_type": "execute_result"
    }
   ],
   "source": [
    "p560.qr"
   ]
  },
  {
   "cell_type": "markdown",
   "metadata": {},
   "source": [
    "If the robot had a base or tool transform they would be listed in this table also.\n",
    "\n",
    "This object is a subclass of `DHRobot`, equivalent to the `SerialLink` class in the MATLAB version of the Toolbox.\n",
    "This class has many methods and attributes, and we will explore some of them in this notebook."
   ]
  },
  {
   "cell_type": "markdown",
   "metadata": {},
   "source": [
    "We can easily display the robot graphically"
   ]
  },
  {
   "cell_type": "code",
   "execution_count": 7,
   "metadata": {
    "scrolled": false
   },
   "outputs": [],
   "source": [
    "p560.plot(p560.qn);"
   ]
  },
  {
   "cell_type": "markdown",
   "metadata": {},
   "source": [
    "where `qn` is one of the named configurations shown above, and has the robot positioned to work above a table top.  You can use the mouse to rotate the plot and view the robot from different directions.  The grey line is the _shadow_ which is a projection of the robot onto the xy-plane.\n",
    "\n",
    "In this particular case the end-effector pose is given by the forward kinematics"
   ]
  },
  {
   "cell_type": "code",
   "execution_count": 8,
   "metadata": {},
   "outputs": [
    {
     "data": {
      "text/plain": "   0         0         1         0.5963    \n   0         1         0        -0.1501    \n  -1         0         0         0.6575    \n   0         0         0         1         \n"
     },
     "execution_count": 8,
     "metadata": {},
     "output_type": "execute_result"
    }
   ],
   "source": [
    "p560.fkine(p560.qn)"
   ]
  },
  {
   "cell_type": "markdown",
   "metadata": {},
   "source": [
    "which is a 4x4 SE(3) matrix displayed in a color coded way with rotation matrix in red, translation vector in blue, and constant elements in grey.  This is an instance of an `SE3` object safely encapsulates the SE(3) matrix.  This class, and related ones, are implemented by the [Spatial Math Toolbox for Python](https://github.com/petercorke/spatialmath-python).\n",
    "\n",
    "You can verify the end-effector position, the blue numbers are from top to bottom the x-, y- and z-coordinates of the end-effector position, match the plot shown above.\n",
    "\n",
    "We can manually adjust the joint angles of this robot (click and drag the sliders) to see how the shape of the robot changes and how the end-effector pose changes"
   ]
  },
  {
   "cell_type": "code",
   "execution_count": 7,
   "metadata": {
    "scrolled": false
   },
   "outputs": [],
   "source": [
    "# p560.teach(); # works from console, hangs in Jupyter"
   ]
  },
  {
   "cell_type": "markdown",
   "metadata": {},
   "source": [
    "An important problem in robotics is _inverse kinematics_, determining the joint angles to put the robot's end effector at a particular pose.\n",
    "\n",
    "Suppose we want the end-effector to be at position (0.5, 0.2, 0.1) and to have its gripper pointing (its _approach vector_) in the x-direction, and its fingers one above the other so that its _orientation vector_ is parallel to the z-axis.\n",
    "\n",
    "We can specify that pose by composing two SE(3) matrices:\n",
    "\n",
    "1. a pure translation\n",
    "2. a pure rotation defined in terms of the orientation and approach vectors"
   ]
  },
  {
   "cell_type": "code",
   "execution_count": 9,
   "metadata": {},
   "outputs": [
    {
     "data": {
      "text/plain": "   0         0         1         0.5       \n   1         0         0         0.2       \n   0         1         0         0.5       \n   0         0         0         1         \n"
     },
     "execution_count": 9,
     "metadata": {},
     "output_type": "execute_result"
    }
   ],
   "source": [
    "T = SE3(0.5, 0.2, 0.5) * SE3.OA([0,0,1], [1,0,0])\n",
    "T"
   ]
  },
  {
   "cell_type": "markdown",
   "metadata": {},
   "source": [
    "Now we can compute the joint angles that results in this pose"
   ]
  },
  {
   "cell_type": "code",
   "execution_count": 10,
   "metadata": {},
   "outputs": [],
   "source": [
    "sol = p560.ikine_LM(T)"
   ]
  },
  {
   "cell_type": "markdown",
   "metadata": {},
   "source": [
    "which returns the joint coordinates as well as solution status"
   ]
  },
  {
   "cell_type": "code",
   "execution_count": 11,
   "metadata": {},
   "outputs": [
    {
     "data": {
      "text/plain": "IKsolution(q=array([  0.6629,    -1.21,   0.2528,  -0.9351,  -0.8707,    2.289]), success=True, reason=None, iterations=11, residual=4.40515503141977e-12)"
     },
     "execution_count": 11,
     "metadata": {},
     "output_type": "execute_result"
    }
   ],
   "source": [
    "sol"
   ]
  },
  {
   "cell_type": "markdown",
   "metadata": {},
   "source": [
    "indicating, in this case, that there is no failure. The joint coordinates are"
   ]
  },
  {
   "cell_type": "code",
   "execution_count": 12,
   "metadata": {},
   "outputs": [
    {
     "data": {
      "text/plain": "array([  0.6629,    -1.21,   0.2528,  -0.9351,  -0.8707,    2.289])"
     },
     "execution_count": 12,
     "metadata": {},
     "output_type": "execute_result"
    }
   ],
   "source": [
    "sol.q"
   ]
  },
  {
   "cell_type": "markdown",
   "metadata": {},
   "source": [
    "and we can confirm that this is indeed an inverse kinematic solution by computing the forward kinematics"
   ]
  },
  {
   "cell_type": "code",
   "execution_count": 13,
   "metadata": {},
   "outputs": [
    {
     "data": {
      "text/plain": "   1.049e-12 -9.336e-13  1         0.5       \n   1        -6.704e-13 -1.049e-12  0.2       \n   6.704e-13  1         9.335e-13  0.5       \n   0         0         0         1         \n"
     },
     "execution_count": 13,
     "metadata": {},
     "output_type": "execute_result"
    }
   ],
   "source": [
    "p560.fkine(sol.q)"
   ]
  },
  {
   "cell_type": "markdown",
   "metadata": {},
   "source": [
    "which matches the original transform."
   ]
  },
  {
   "cell_type": "markdown",
   "metadata": {},
   "source": [
    "A simple trajectory between two joint configuration is"
   ]
  },
  {
   "cell_type": "code",
   "execution_count": 14,
   "metadata": {},
   "outputs": [],
   "source": [
    "qt = rtb.tools.trajectory.jtraj(p560.qz, sol.q, 50)"
   ]
  },
  {
   "cell_type": "markdown",
   "metadata": {},
   "source": [
    "The result is a _namedtuple_ with attributes `q` containing the joint angles, as well as `qd`, `qdd` and `t` which hold the joint velocity, joint accelerations and time respectively.  \n",
    "\n",
    "The joint angles are a matrix with one column per joint and one row per timestep, and time increasing with row number."
   ]
  },
  {
   "cell_type": "code",
   "execution_count": 15,
   "metadata": {
    "scrolled": true
   },
   "outputs": [
    {
     "data": {
      "text/plain": "array([[       0,        0,        0,        0,        0,        0],\n       [5.463e-05, -9.971e-05, 2.084e-05, -7.707e-05, -7.176e-05, 0.0001886],\n       [0.0004236, -0.0007731, 0.0001616, -0.0005976, -0.0005564, 0.001463],\n       [0.001385, -0.002528, 0.0005282, -0.001954, -0.001819, 0.004782],\n       [0.003179, -0.005801, 0.001212, -0.004485, -0.004175,  0.01098],\n       [0.006009, -0.01097, 0.002292, -0.008477, -0.007893,  0.02075],\n       [ 0.01004, -0.01833, 0.003831, -0.01417, -0.01319,  0.03468],\n       [ 0.01542, -0.02814, 0.005882, -0.02176, -0.02026,  0.05324],\n       [ 0.02224,  -0.0406, 0.008484, -0.03138, -0.02922,   0.0768],\n       [ 0.03059, -0.05583,  0.01167, -0.04315, -0.04018,   0.1056],\n       [  0.0405, -0.07392,  0.01545, -0.05714,  -0.0532,   0.1398],\n       [ 0.05201, -0.09492,  0.01984, -0.07337, -0.06831,   0.1796],\n       [  0.0651,  -0.1188,  0.02483, -0.09184, -0.08551,   0.2248],\n       [ 0.07975,  -0.1456,  0.03042,  -0.1125,  -0.1048,   0.2754],\n       [ 0.09592,  -0.1751,  0.03658,  -0.1353,   -0.126,   0.3312],\n       [  0.1135,  -0.2072,   0.0433,  -0.1602,  -0.1491,    0.392],\n       [  0.1325,  -0.2418,  0.05054,  -0.1869,   -0.174,   0.4575],\n       [  0.1528,  -0.2788,  0.05826,  -0.2155,  -0.2006,   0.5274],\n       [  0.1741,  -0.3178,  0.06642,  -0.2457,  -0.2287,   0.6012],\n       [  0.1965,  -0.3587,  0.07496,  -0.2773,  -0.2582,   0.6786],\n       [  0.2198,  -0.4012,  0.08385,  -0.3101,  -0.2887,    0.759],\n       [  0.2439,  -0.4451,  0.09301,   -0.344,  -0.3203,    0.842],\n       [  0.2685,    -0.49,   0.1024,  -0.3787,  -0.3526,   0.9269],\n       [  0.2935,  -0.5356,   0.1119,   -0.414,  -0.3855,    1.013],\n       [  0.3188,  -0.5817,   0.1216,  -0.4497,  -0.4187,    1.101],\n       [  0.3441,   -0.628,   0.1312,  -0.4855,   -0.452,    1.188],\n       [  0.3694,  -0.6741,   0.1409,  -0.5211,  -0.4852,    1.275],\n       [  0.3944,  -0.7198,   0.1504,  -0.5564,   -0.518,    1.362],\n       [   0.419,  -0.7647,   0.1598,  -0.5911,  -0.5504,    1.447],\n       [   0.443,  -0.8086,    0.169,   -0.625,  -0.5819,     1.53],\n       [  0.4663,  -0.8511,   0.1779,  -0.6579,  -0.6125,     1.61],\n       [  0.4887,   -0.892,   0.1864,  -0.6895,  -0.6419,    1.687],\n       [  0.5101,   -0.931,   0.1946,  -0.7197,    -0.67,    1.761],\n       [  0.5304,  -0.9679,   0.2023,  -0.7482,  -0.6966,    1.831],\n       [  0.5493,   -1.003,   0.2095,   -0.775,  -0.7215,    1.897],\n       [   0.567,   -1.035,   0.2162,  -0.7998,  -0.7447,    1.957],\n       [  0.5831,   -1.064,   0.2224,  -0.8226,  -0.7659,    2.013],\n       [  0.5978,   -1.091,    0.228,  -0.8433,  -0.7852,    2.064],\n       [  0.6109,   -1.115,    0.233,  -0.8618,  -0.8024,    2.109],\n       [  0.6224,   -1.136,   0.2374,   -0.878,  -0.8175,    2.149],\n       [  0.6323,   -1.154,   0.2412,   -0.892,  -0.8305,    2.183],\n       [  0.6406,   -1.169,   0.2443,  -0.9038,  -0.8414,    2.212],\n       [  0.6475,   -1.182,   0.2469,  -0.9134,  -0.8504,    2.235],\n       [  0.6528,   -1.191,    0.249,   -0.921,  -0.8575,    2.254],\n       [  0.6569,   -1.199,   0.2505,  -0.9267,  -0.8628,    2.268],\n       [  0.6597,   -1.204,   0.2516,  -0.9307,  -0.8665,    2.278],\n       [  0.6615,   -1.207,   0.2523,  -0.9332,  -0.8688,    2.284],\n       [  0.6625,   -1.209,   0.2527,  -0.9346,  -0.8701,    2.287],\n       [  0.6628,    -1.21,   0.2528,  -0.9351,  -0.8706,    2.288],\n       [  0.6629,    -1.21,   0.2528,  -0.9351,  -0.8707,    2.289]])"
     },
     "execution_count": 15,
     "metadata": {},
     "output_type": "execute_result"
    }
   ],
   "source": [
    "qt.q"
   ]
  },
  {
   "cell_type": "markdown",
   "metadata": {},
   "source": [
    "We can plot this trajectory as a function of time using the convenience function `qplot`"
   ]
  },
  {
   "cell_type": "code",
   "execution_count": 16,
   "metadata": {},
   "outputs": [
    {
     "ename": "AttributeError",
     "evalue": "module 'roboticstoolbox.tools.trajectory' has no attribute 'qplot'",
     "output_type": "error",
     "traceback": [
      "\u001B[0;31m---------------------------------------------------------------------------\u001B[0m",
      "\u001B[0;31mAttributeError\u001B[0m                            Traceback (most recent call last)",
      "Cell \u001B[0;32mIn [16], line 1\u001B[0m\n\u001B[0;32m----> 1\u001B[0m \u001B[43mrtb\u001B[49m\u001B[38;5;241;43m.\u001B[39;49m\u001B[43mtools\u001B[49m\u001B[38;5;241;43m.\u001B[39;49m\u001B[43mtrajectory\u001B[49m\u001B[38;5;241;43m.\u001B[39;49m\u001B[43mqplot\u001B[49m(qt\u001B[38;5;241m.\u001B[39mq, block\u001B[38;5;241m=\u001B[39m\u001B[38;5;28;01mFalse\u001B[39;00m)\n",
      "\u001B[0;31mAttributeError\u001B[0m: module 'roboticstoolbox.tools.trajectory' has no attribute 'qplot'"
     ]
    }
   ],
   "source": [
    "rtb.tools.trajectory.qplot(qt.q, block=False)"
   ]
  },
  {
   "cell_type": "markdown",
   "metadata": {},
   "source": [
    "and then we can animate this"
   ]
  },
  {
   "cell_type": "code",
   "execution_count": 18,
   "metadata": {},
   "outputs": [],
   "source": [
    "p560.plot(qt.q, dt=0.1);"
   ]
  },
  {
   "cell_type": "markdown",
   "metadata": {},
   "source": [
    "_Note: animation not working in Jupyter..._"
   ]
  },
  {
   "cell_type": "markdown",
   "metadata": {},
   "source": [
    "The inverse kinematic solution was found using an iterative numerical procedure.  It is quite general but it has several drawbacks:\n",
    "- it can be slow\n",
    "- it may not find a solution, if the initial choice of joint coordinates is far from the solution (in the case above the default initial choice of all zeros was used)\n",
    "- it may not find the solution you want, in general there are multiple solutions for inverse kinematics.  For the same end-effector pose, the robot might:\n",
    "    - have it's arm on the left or right of its waist axis, \n",
    "    - the elbow could be up or down, and\n",
    "    - the wrist can flipped or not flipped.  For a two-finger gripper a rotation of \n",
    "      180° about the gripper axis leaves the fingers in the same configuration.\n",
    "\n",
    "Most industrial robots have a _spherical wrist_ which means that the last three joint axes intersect at a single point in the middle of the wrist mechanism.  We can test for this condition"
   ]
  },
  {
   "cell_type": "code",
   "execution_count": 19,
   "metadata": {},
   "outputs": [
    {
     "data": {
      "text/plain": "True"
     },
     "execution_count": 19,
     "metadata": {},
     "output_type": "execute_result"
    }
   ],
   "source": [
    "p560.isspherical()"
   ]
  },
  {
   "cell_type": "markdown",
   "metadata": {},
   "source": [
    "This greatly simplifies things because the last three joints only control orientation and have no effect on the end-effector position.  This means that only the first three joints define position $(x_e, y_e, z_e)$.  Three joints that control three unknowns is relatively easy to solve for, and analytical solutions (complex trigonmetric equations) can be found, and in fact have been published for most industrial robot manipulators.\n",
    "\n",
    "The Puma560 has an analytical solution.  We can request the solution with the arm to the left and the elbow up, and the wrist not flipped by using the configuration string `\"lun\"`\n"
   ]
  },
  {
   "cell_type": "code",
   "execution_count": 20,
   "metadata": {},
   "outputs": [
    {
     "data": {
      "text/plain": "IKsolution(q=array([  -3.043,    2.573,   0.2528,   0.1032,   -1.257,   -1.603]), success=True, reason='')"
     },
     "execution_count": 20,
     "metadata": {},
     "output_type": "execute_result"
    }
   ],
   "source": [
    "sol = p560.ikine_a(T, \"lun\")\n",
    "sol"
   ]
  },
  {
   "cell_type": "markdown",
   "metadata": {},
   "source": [
    "which is different to the values found earlier, but we can verify it is a valid solution"
   ]
  },
  {
   "cell_type": "code",
   "execution_count": 21,
   "metadata": {},
   "outputs": [
    {
     "data": {
      "text/plain": "   0         0         1         0.5       \n   1         0         0         0.2       \n   0         1         0         0.5       \n   0         0         0         1         \n"
     },
     "execution_count": 21,
     "metadata": {},
     "output_type": "execute_result"
    }
   ],
   "source": [
    "p560.fkine(sol.q)"
   ]
  },
  {
   "cell_type": "markdown",
   "metadata": {},
   "source": [
    "In fact the solution we found earlier, but didn't explicitly specify, is the right-handed elbow-up configuration"
   ]
  },
  {
   "cell_type": "code",
   "execution_count": 22,
   "metadata": {},
   "outputs": [
    {
     "data": {
      "text/plain": "array([  0.6629,   0.5682,    2.983,   -2.436,   -1.252,   -1.832])"
     },
     "execution_count": 22,
     "metadata": {},
     "output_type": "execute_result"
    }
   ],
   "source": [
    "sol = p560.ikine_a(T, \"run\")\n",
    "sol.q"
   ]
  },
  {
   "cell_type": "markdown",
   "metadata": {},
   "source": [
    "Other useful functions include the manipulator Jacobian which maps joint velocity to end-effector velocity expressed in the world frame"
   ]
  },
  {
   "cell_type": "code",
   "execution_count": 23,
   "metadata": {},
   "outputs": [
    {
     "data": {
      "text/plain": "array([[  0.1501,  0.01435,   0.3197,        0,        0,        0],\n       [  0.5963,        0,        0,        0,        0,        0],\n       [       0,   0.5963,    0.291,        0,        0,        0],\n       [       0,        0,        0,   0.7071,        0,        1],\n       [       0,       -1,       -1,        0,       -1,        0],\n       [       1,        0,        0,  -0.7071,        0,        0]])"
     },
     "execution_count": 23,
     "metadata": {},
     "output_type": "execute_result"
    }
   ],
   "source": [
    "p560.jacob0(p560.qn)"
   ]
  },
  {
   "cell_type": "code",
   "execution_count": 23,
   "metadata": {},
   "outputs": [],
   "source": []
  },
  {
   "cell_type": "code",
   "execution_count": null,
   "outputs": [],
   "source": [],
   "metadata": {
    "collapsed": false
   }
  }
 ],
 "metadata": {
  "kernelspec": {
   "display_name": "Python 3",
   "language": "python",
   "name": "python3"
  },
  "language_info": {
   "codemirror_mode": {
    "name": "ipython",
    "version": 3
   },
   "file_extension": ".py",
   "mimetype": "text/x-python",
   "name": "python",
   "nbconvert_exporter": "python",
   "pygments_lexer": "ipython3",
   "version": "3.8.5"
  },
  "toc": {
   "base_numbering": 1,
   "nav_menu": {},
   "number_sections": true,
   "sideBar": true,
   "skip_h1_title": false,
   "title_cell": "Table of Contents",
   "title_sidebar": "Contents",
   "toc_cell": false,
   "toc_position": {},
   "toc_section_display": true,
   "toc_window_display": false
  },
  "varInspector": {
   "cols": {
    "lenName": 16,
    "lenType": 16,
    "lenVar": 40
   },
   "kernels_config": {
    "python": {
     "delete_cmd_postfix": "",
     "delete_cmd_prefix": "del ",
     "library": "var_list.py",
     "varRefreshCmd": "print(var_dic_list())"
    },
    "r": {
     "delete_cmd_postfix": ") ",
     "delete_cmd_prefix": "rm(",
     "library": "var_list.r",
     "varRefreshCmd": "cat(var_dic_list()) "
    }
   },
   "types_to_exclude": [
    "module",
    "function",
    "builtin_function_or_method",
    "instance",
    "_Feature"
   ],
   "window_display": false
  }
 },
 "nbformat": 4,
 "nbformat_minor": 4
}
