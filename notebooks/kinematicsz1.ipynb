{
 "cells": [
  {
   "cell_type": "code",
   "execution_count": 2,
   "metadata": {},
   "outputs": [],
   "source": [
    "import numpy as np\n",
    "import roboticstoolbox as rtb\n",
    "from spatialmath import *\n",
    "from math import pi\n",
    "import matplotlib.pyplot as plt\n",
    "from matplotlib import cm\n",
    "np.set_printoptions(linewidth=100, formatter={'float': lambda x: f\"{x:8.4g}\" if abs(x) > 1e-10 else f\"{0:8.4g}\"})\n",
    "\n",
    "%matplotlib notebook"
   ]
  },
  {
   "cell_type": "markdown",
   "metadata": {},
   "source": [
    "The Toolbox supports models defined using a number of different conventions.  We will load a very classical model, a Puma560 robot defined in terms of standard Denavit-Hartenberg parameters"
   ]
  },
  {
   "cell_type": "code",
   "execution_count": 3,
   "metadata": {},
   "outputs": [],
   "source": [
    "p560 = rtb.models.Z1()"
   ]
  },
  {
   "cell_type": "markdown",
   "metadata": {},
   "source": [
    "Now we can display the simple Denavit-Hartenberg parameter model"
   ]
  },
  {
   "cell_type": "code",
   "execution_count": 4,
   "metadata": {},
   "outputs": [
    {
     "name": "stdout",
     "output_type": "stream",
     "text": [
      "ERobot: Z1_DESCRIPTION (by Unitree), 6 joints (RRRRRR), 1 gripper, dynamics, geometry, collision\n",
      "┌─────┬────────────────┬───────┬────────┬───────────────────────────────┐\n",
      "│link │      link      │ joint │ parent │      ETS: parent to link      │\n",
      "├─────┼────────────────┼───────┼────────┼───────────────────────────────┤\n",
      "│   0 │ world          │       │ BASE   │                               │\n",
      "│   1 │ link00         │       │ world  │ SE3()                         │\n",
      "│   2 │ link01         │     0 │ link00 │ SE3(0, 0, 0.0585) ⊕ Rz(q0)    │\n",
      "│   3 │ link02         │     1 │ link01 │ SE3(0, 0, 0.045) ⊕ Ry(q1)     │\n",
      "│   4 │ link03         │     2 │ link02 │ SE3(-0.35, 0, 0) ⊕ Ry(q2)     │\n",
      "│   5 │ link04         │     3 │ link03 │ SE3(0.218, 0, 0.057) ⊕ Ry(q3) │\n",
      "│   6 │ link05         │     4 │ link04 │ SE3(0.07, 0, 0) ⊕ Rz(q4)      │\n",
      "│   7 │ link06         │     5 │ link05 │ SE3(0.0492, 0, 0) ⊕ Rx(q5)    │\n",
      "│   8 │ @gripperStator │       │ link06 │ SE3(0.051, 0, 0)              │\n",
      "└─────┴────────────────┴───────┴────────┴───────────────────────────────┘\n",
      "\n",
      "┌─────┬──────────┬─────────┬─────────┬───────┬───────────┬───────────┐\n",
      "│name │ q0       │ q1      │ q2      │ q3    │ q4        │ q5        │\n",
      "├─────┼──────────┼─────────┼─────────┼───────┼───────────┼───────────┤\n",
      "│  qr │  0.0528° │  0.039° │ -0.209° │ -4.3° │ -0.00745° │  0.00201° │\n",
      "│  qz │  0.0528° │  0.039° │ -0.209° │ -4.3° │ -0.00745° │  0.00201° │\n",
      "│  qn │  0.0528° │  0.039° │ -0.209° │ -4.3° │ -0.00745° │  0.00201° │\n",
      "│  q1 │  0.0528° │  0.039° │ -0.209° │ -4.3° │ -0.00745° │  0.00201° │\n",
      "└─────┴──────────┴─────────┴─────────┴───────┴───────────┴───────────┘\n",
      "\n"
     ]
    }
   ],
   "source": [
    "print(p560)"
   ]
  },
  {
   "cell_type": "markdown",
   "metadata": {},
   "source": [
    "The first table shows the kinematic parameters, and from the column titles we can see clearly that this is expressed in terms of standard Denavit-Hartenberg parameters.  The first column shows that the joint variables qi are rotations since they are in the θ column.  Joint limits are also shown.  Joint flip (motion in the opposite sense) would be indicated by the joint variable being shown as for example like `-q3`, and joint offsets by being shown as for example like `q2 + 45°`.\n",
    "\n",
    "The second table shows some named joint configurations.  For example `p560.qr` is "
   ]
  },
  {
   "cell_type": "code",
   "execution_count": 5,
   "metadata": {},
   "outputs": [
    {
     "data": {
      "text/plain": "array([0.000922,  0.00068, -0.003654, -0.07501, -0.00013,  3.5e-05])"
     },
     "execution_count": 5,
     "metadata": {},
     "output_type": "execute_result"
    }
   ],
   "source": [
    "p560.qr"
   ]
  },
  {
   "cell_type": "markdown",
   "metadata": {},
   "source": [
    "If the robot had a base or tool transform they would be listed in this table also.\n",
    "\n",
    "This object is a subclass of `DHRobot`, equivalent to the `SerialLink` class in the MATLAB version of the Toolbox.\n",
    "This class has many methods and attributes, and we will explore some of them in this notebook."
   ]
  },
  {
   "cell_type": "markdown",
   "metadata": {},
   "source": [
    "We can easily display the robot graphically"
   ]
  },
  {
   "cell_type": "code",
   "execution_count": 7,
   "metadata": {
    "scrolled": false
   },
   "outputs": [],
   "source": [
    "p560.plot(p560.qn);"
   ]
  },
  {
   "cell_type": "markdown",
   "metadata": {},
   "source": [
    "where `qn` is one of the named configurations shown above, and has the robot positioned to work above a table top.  You can use the mouse to rotate the plot and view the robot from different directions.  The grey line is the _shadow_ which is a projection of the robot onto the xy-plane.\n",
    "\n",
    "In this particular case the end-effector pose is given by the forward kinematics"
   ]
  },
  {
   "cell_type": "code",
   "execution_count": 8,
   "metadata": {},
   "outputs": [
    {
     "data": {
      "text/plain": "   0.997    -0.0007951 -0.07698   0.08636   \n   0.0007893  1        -0.0001061  6.023e-05  \n   0.07698   4.502e-05  0.997     0.1785    \n   0         0         0         1         \n"
     },
     "execution_count": 8,
     "metadata": {},
     "output_type": "execute_result"
    }
   ],
   "source": [
    "p560.fkine(p560.qn)"
   ]
  },
  {
   "cell_type": "markdown",
   "metadata": {},
   "source": [
    "which is a 4x4 SE(3) matrix displayed in a color coded way with rotation matrix in red, translation vector in blue, and constant elements in grey.  This is an instance of an `SE3` object safely encapsulates the SE(3) matrix.  This class, and related ones, are implemented by the [Spatial Math Toolbox for Python](https://github.com/petercorke/spatialmath-python).\n",
    "\n",
    "You can verify the end-effector position, the blue numbers are from top to bottom the x-, y- and z-coordinates of the end-effector position, match the plot shown above.\n",
    "\n",
    "We can manually adjust the joint angles of this robot (click and drag the sliders) to see how the shape of the robot changes and how the end-effector pose changes"
   ]
  },
  {
   "cell_type": "code",
   "execution_count": 9,
   "metadata": {
    "scrolled": false
   },
   "outputs": [
    {
     "ename": "AttributeError",
     "evalue": "'Swift' object has no attribute '_add_teach_panel'",
     "output_type": "error",
     "traceback": [
      "\u001B[0;31m---------------------------------------------------------------------------\u001B[0m",
      "\u001B[0;31mAttributeError\u001B[0m                            Traceback (most recent call last)",
      "Cell \u001B[0;32mIn [9], line 1\u001B[0m\n\u001B[0;32m----> 1\u001B[0m \u001B[43mp560\u001B[49m\u001B[38;5;241;43m.\u001B[39;49m\u001B[43mteach\u001B[49m\u001B[43m(\u001B[49m\u001B[43m)\u001B[49m; \u001B[38;5;66;03m# works from console, hangs in Jupyter\u001B[39;00m\n",
      "File \u001B[0;32m~/Documents/GitHub/robotics-toolbox-python/roboticstoolbox/robot/Robot.py:2034\u001B[0m, in \u001B[0;36mRobot.teach\u001B[0;34m(self, q, block, order, limits, jointaxes, jointlabels, vellipse, fellipse, eeframe, shadow, name, backend)\u001B[0m\n\u001B[1;32m   2023\u001B[0m env\u001B[38;5;241m.\u001B[39mlaunch(\u001B[38;5;124m\"\u001B[39m\u001B[38;5;124mTeach \u001B[39m\u001B[38;5;124m\"\u001B[39m \u001B[38;5;241m+\u001B[39m \u001B[38;5;28mself\u001B[39m\u001B[38;5;241m.\u001B[39mname, limits\u001B[38;5;241m=\u001B[39mlimits)\n\u001B[1;32m   2024\u001B[0m env\u001B[38;5;241m.\u001B[39madd(\n\u001B[1;32m   2025\u001B[0m     \u001B[38;5;28mself\u001B[39m,\n\u001B[1;32m   2026\u001B[0m     readonly\u001B[38;5;241m=\u001B[39m\u001B[38;5;28;01mTrue\u001B[39;00m,\n\u001B[0;32m   (...)\u001B[0m\n\u001B[1;32m   2031\u001B[0m     \u001B[38;5;66;03m# name=name,\u001B[39;00m\n\u001B[1;32m   2032\u001B[0m )\n\u001B[0;32m-> 2034\u001B[0m \u001B[43menv\u001B[49m\u001B[38;5;241;43m.\u001B[39;49m\u001B[43m_add_teach_panel\u001B[49m(\u001B[38;5;28mself\u001B[39m, q)\n\u001B[1;32m   2036\u001B[0m \u001B[38;5;28;01mif\u001B[39;00m vellipse:\n\u001B[1;32m   2037\u001B[0m     vell \u001B[38;5;241m=\u001B[39m \u001B[38;5;28mself\u001B[39m\u001B[38;5;241m.\u001B[39mvellipse(centre\u001B[38;5;241m=\u001B[39m\u001B[38;5;124m\"\u001B[39m\u001B[38;5;124mee\u001B[39m\u001B[38;5;124m\"\u001B[39m, scale\u001B[38;5;241m=\u001B[39m\u001B[38;5;241m0.5\u001B[39m)\n",
      "\u001B[0;31mAttributeError\u001B[0m: 'Swift' object has no attribute '_add_teach_panel'"
     ]
    }
   ],
   "source": [
    "#p560.teach(); # works from console, hangs in Jupyter"
   ]
  },
  {
   "cell_type": "markdown",
   "metadata": {},
   "source": [
    "An important problem in robotics is _inverse kinematics_, determining the joint angles to put the robot's end effector at a particular pose.\n",
    "\n",
    "Suppose we want the end-effector to be at position (0.5, 0.2, 0.1) and to have its gripper pointing (its _approach vector_) in the x-direction, and its fingers one above the other so that its _orientation vector_ is parallel to the z-axis.\n",
    "\n",
    "We can specify that pose by composing two SE(3) matrices:\n",
    "\n",
    "1. a pure translation\n",
    "2. a pure rotation defined in terms of the orientation and approach vectors"
   ]
  },
  {
   "cell_type": "code",
   "execution_count": 10,
   "metadata": {},
   "outputs": [
    {
     "data": {
      "text/plain": "   0         0         1         0.5       \n   1         0         0         0.2       \n   0         1         0         0.5       \n   0         0         0         1         \n"
     },
     "execution_count": 10,
     "metadata": {},
     "output_type": "execute_result"
    }
   ],
   "source": [
    "T = SE3(0.5, 0.2, 0.5) * SE3.OA([0,0,1], [1,0,0])\n",
    "T"
   ]
  },
  {
   "cell_type": "markdown",
   "metadata": {},
   "source": [
    "Now we can compute the joint angles that results in this pose"
   ]
  },
  {
   "cell_type": "code",
   "execution_count": 12,
   "metadata": {},
   "outputs": [],
   "source": [
    "sol = p560.ikine_LM(T)"
   ]
  },
  {
   "cell_type": "markdown",
   "metadata": {},
   "source": [
    "which returns the joint coordinates as well as solution status"
   ]
  },
  {
   "cell_type": "code",
   "execution_count": 13,
   "metadata": {},
   "outputs": [
    {
     "data": {
      "text/plain": "IKSolution(q=array([  0.1064,    2.402,   -2.941,   0.5383,    1.356,    1.571,  -0.8864]), success=True, iterations=1297, searches=44, residual=1.147452607923145e-07, reason='Success')"
     },
     "execution_count": 13,
     "metadata": {},
     "output_type": "execute_result"
    }
   ],
   "source": [
    "sol"
   ]
  },
  {
   "cell_type": "markdown",
   "metadata": {},
   "source": [
    "indicating, in this case, that there is no failure. The joint coordinates are"
   ]
  },
  {
   "cell_type": "code",
   "execution_count": 14,
   "metadata": {},
   "outputs": [
    {
     "data": {
      "text/plain": "array([  0.1064,    2.402,   -2.941,   0.5383,    1.356,    1.571,  -0.8864])"
     },
     "execution_count": 14,
     "metadata": {},
     "output_type": "execute_result"
    }
   ],
   "source": [
    "sol.q"
   ]
  },
  {
   "cell_type": "markdown",
   "metadata": {},
   "source": [
    "and we can confirm that this is indeed an inverse kinematic solution by computing the forward kinematics"
   ]
  },
  {
   "cell_type": "code",
   "execution_count": 15,
   "metadata": {},
   "outputs": [
    {
     "data": {
      "text/plain": "   0.002073 -2.496e-07  1         0.5       \n   1        -3.64e-06 -0.002073  0.2       \n   3.64e-06  1         2.421e-07  0.5       \n   0         0         0         1         \n"
     },
     "execution_count": 15,
     "metadata": {},
     "output_type": "execute_result"
    }
   ],
   "source": [
    "p560.fkine(sol.q)"
   ]
  },
  {
   "cell_type": "markdown",
   "metadata": {},
   "source": [
    "which matches the original transform."
   ]
  },
  {
   "cell_type": "markdown",
   "metadata": {},
   "source": [
    "A simple trajectory between two joint configuration is"
   ]
  },
  {
   "cell_type": "code",
   "execution_count": 19,
   "metadata": {},
   "outputs": [],
   "source": [
    "q2=sol.q[:6] #ignore gripper"
   ]
  },
  {
   "cell_type": "code",
   "execution_count": 22,
   "outputs": [],
   "source": [
    "qt = rtb.tools.trajectory.jtraj(p560.qz, q2, 250)"
   ],
   "metadata": {
    "collapsed": false
   }
  },
  {
   "cell_type": "markdown",
   "metadata": {},
   "source": [
    "The result is a _namedtuple_ with attributes `q` containing the joint angles, as well as `qd`, `qdd` and `t` which hold the joint velocity, joint accelerations and time respectively.  \n",
    "\n",
    "The joint angles are a matrix with one column per joint and one row per timestep, and time increasing with row number."
   ]
  },
  {
   "cell_type": "code",
   "execution_count": 40,
   "metadata": {
    "scrolled": true
   },
   "outputs": [
    {
     "data": {
      "text/plain": "array([[       0, 0.000922,  0.00068, ...,        0,        0,        0],\n       [       1, 0.0009221, 0.0006815, ..., 0.0006509, 0.0007539,        0],\n       [       2, 0.0009225, 0.0006923, ..., 0.002583, 0.002992,        0],\n       ...,\n       [     247,   0.1064,    2.402, ..., 0.002583, 0.002992,        0],\n       [     248,   0.1064,    2.402, ..., 0.0006509, 0.0007539,        0],\n       [     249,   0.1064,    2.402, ...,        0,        0,        0]])"
     },
     "execution_count": 40,
     "metadata": {},
     "output_type": "execute_result"
    }
   ],
   "source": [
    "qt.q\n",
    "id=np.arange(250)\n",
    "zeros=np.zeros(250)\n",
    "np.hstack((id[:,None],qt.q,zeros[:,None],qt.qd,zeros[:,None])) #save this to traj file for Z1\n"
   ]
  },
  {
   "cell_type": "markdown",
   "metadata": {},
   "source": [
    "We can plot this trajectory as a function of time using the convenience function `qplot`"
   ]
  },
  {
   "cell_type": "code",
   "execution_count": 26,
   "metadata": {},
   "outputs": [
    {
     "ename": "AttributeError",
     "evalue": "module 'roboticstoolbox.tools.trajectory' has no attribute 'xplot'",
     "output_type": "error",
     "traceback": [
      "\u001B[0;31m---------------------------------------------------------------------------\u001B[0m",
      "\u001B[0;31mAttributeError\u001B[0m                            Traceback (most recent call last)",
      "Cell \u001B[0;32mIn [26], line 1\u001B[0m\n\u001B[0;32m----> 1\u001B[0m \u001B[43mrtb\u001B[49m\u001B[38;5;241;43m.\u001B[39;49m\u001B[43mtools\u001B[49m\u001B[38;5;241;43m.\u001B[39;49m\u001B[43mtrajectory\u001B[49m\u001B[38;5;241;43m.\u001B[39;49m\u001B[43mxplot\u001B[49m(qt\u001B[38;5;241m.\u001B[39mq, block\u001B[38;5;241m=\u001B[39m\u001B[38;5;28;01mFalse\u001B[39;00m)\n",
      "\u001B[0;31mAttributeError\u001B[0m: module 'roboticstoolbox.tools.trajectory' has no attribute 'xplot'"
     ]
    }
   ],
   "source": [
    "rtb.tools.trajectory.xplot(qt.q, block=False)"
   ]
  },
  {
   "cell_type": "markdown",
   "metadata": {},
   "source": [
    "and then we can animate this"
   ]
  },
  {
   "cell_type": "code",
   "execution_count": 29,
   "metadata": {},
   "outputs": [],
   "source": [
    "p560.plot(qt.q, dt=0.04);"
   ]
  },
  {
   "cell_type": "markdown",
   "metadata": {},
   "source": [
    "_Note: animation not working in Jupyter..._"
   ]
  },
  {
   "cell_type": "markdown",
   "metadata": {},
   "source": [
    "The inverse kinematic solution was found using an iterative numerical procedure.  It is quite general but it has several drawbacks:\n",
    "- it can be slow\n",
    "- it may not find a solution, if the initial choice of joint coordinates is far from the solution (in the case above the default initial choice of all zeros was used)\n",
    "- it may not find the solution you want, in general there are multiple solutions for inverse kinematics.  For the same end-effector pose, the robot might:\n",
    "    - have it's arm on the left or right of its waist axis, \n",
    "    - the elbow could be up or down, and\n",
    "    - the wrist can flipped or not flipped.  For a two-finger gripper a rotation of \n",
    "      180° about the gripper axis leaves the fingers in the same configuration.\n",
    "\n",
    "Most industrial robots have a _spherical wrist_ which means that the last three joint axes intersect at a single point in the middle of the wrist mechanism.  We can test for this condition"
   ]
  },
  {
   "cell_type": "code",
   "execution_count": 30,
   "metadata": {},
   "outputs": [
    {
     "ename": "AttributeError",
     "evalue": "'Z1' object has no attribute 'isspherical'",
     "output_type": "error",
     "traceback": [
      "\u001B[0;31m---------------------------------------------------------------------------\u001B[0m",
      "\u001B[0;31mAttributeError\u001B[0m                            Traceback (most recent call last)",
      "Cell \u001B[0;32mIn [30], line 1\u001B[0m\n\u001B[0;32m----> 1\u001B[0m \u001B[43mp560\u001B[49m\u001B[38;5;241;43m.\u001B[39;49m\u001B[43misspherical\u001B[49m()\n",
      "\u001B[0;31mAttributeError\u001B[0m: 'Z1' object has no attribute 'isspherical'"
     ]
    }
   ],
   "source": [
    "p560.isspherical()"
   ]
  },
  {
   "cell_type": "markdown",
   "metadata": {},
   "source": [
    "This greatly simplifies things because the last three joints only control orientation and have no effect on the end-effector position.  This means that only the first three joints define position $(x_e, y_e, z_e)$.  Three joints that control three unknowns is relatively easy to solve for, and analytical solutions (complex trigonmetric equations) can be found, and in fact have been published for most industrial robot manipulators.\n",
    "\n",
    "The Puma560 has an analytical solution.  We can request the solution with the arm to the left and the elbow up, and the wrist not flipped by using the configuration string `\"lun\"`\n"
   ]
  },
  {
   "cell_type": "code",
   "execution_count": 31,
   "metadata": {},
   "outputs": [
    {
     "ename": "AttributeError",
     "evalue": "'Z1' object has no attribute 'ikine_a'",
     "output_type": "error",
     "traceback": [
      "\u001B[0;31m---------------------------------------------------------------------------\u001B[0m",
      "\u001B[0;31mAttributeError\u001B[0m                            Traceback (most recent call last)",
      "Cell \u001B[0;32mIn [31], line 1\u001B[0m\n\u001B[0;32m----> 1\u001B[0m sol \u001B[38;5;241m=\u001B[39m \u001B[43mp560\u001B[49m\u001B[38;5;241;43m.\u001B[39;49m\u001B[43mikine_a\u001B[49m(T, \u001B[38;5;124m\"\u001B[39m\u001B[38;5;124mlun\u001B[39m\u001B[38;5;124m\"\u001B[39m)\n\u001B[1;32m      2\u001B[0m sol\n",
      "\u001B[0;31mAttributeError\u001B[0m: 'Z1' object has no attribute 'ikine_a'"
     ]
    }
   ],
   "source": [
    "sol = p560.ikine_a(T, \"lun\")\n",
    "sol"
   ]
  },
  {
   "cell_type": "markdown",
   "metadata": {},
   "source": [
    "which is different to the values found earlier, but we can verify it is a valid solution"
   ]
  },
  {
   "cell_type": "code",
   "execution_count": 21,
   "metadata": {},
   "outputs": [
    {
     "data": {
      "text/plain": "   0         0         1         0.5       \n   1         0         0         0.2       \n   0         1         0         0.5       \n   0         0         0         1         \n"
     },
     "execution_count": 21,
     "metadata": {},
     "output_type": "execute_result"
    }
   ],
   "source": [
    "p560.fkine(sol.q)"
   ]
  },
  {
   "cell_type": "markdown",
   "metadata": {},
   "source": [
    "In fact the solution we found earlier, but didn't explicitly specify, is the right-handed elbow-up configuration"
   ]
  },
  {
   "cell_type": "code",
   "execution_count": 22,
   "metadata": {},
   "outputs": [
    {
     "data": {
      "text/plain": "array([  0.6629,   0.5682,    2.983,   -2.436,   -1.252,   -1.832])"
     },
     "execution_count": 22,
     "metadata": {},
     "output_type": "execute_result"
    }
   ],
   "source": [
    "sol = p560.ikine_a(T, \"run\")\n",
    "sol.q"
   ]
  },
  {
   "cell_type": "markdown",
   "metadata": {},
   "source": [
    "Other useful functions include the manipulator Jacobian which maps joint velocity to end-effector velocity expressed in the world frame"
   ]
  },
  {
   "cell_type": "code",
   "execution_count": 23,
   "metadata": {},
   "outputs": [
    {
     "data": {
      "text/plain": "array([[  0.1501,  0.01435,   0.3197,        0,        0,        0],\n       [  0.5963,        0,        0,        0,        0,        0],\n       [       0,   0.5963,    0.291,        0,        0,        0],\n       [       0,        0,        0,   0.7071,        0,        1],\n       [       0,       -1,       -1,        0,       -1,        0],\n       [       1,        0,        0,  -0.7071,        0,        0]])"
     },
     "execution_count": 23,
     "metadata": {},
     "output_type": "execute_result"
    }
   ],
   "source": [
    "p560.jacob0(p560.qn)"
   ]
  },
  {
   "cell_type": "code",
   "execution_count": 23,
   "metadata": {},
   "outputs": [],
   "source": []
  },
  {
   "cell_type": "code",
   "execution_count": null,
   "outputs": [],
   "source": [],
   "metadata": {
    "collapsed": false
   }
  }
 ],
 "metadata": {
  "kernelspec": {
   "display_name": "Python 3",
   "language": "python",
   "name": "python3"
  },
  "language_info": {
   "codemirror_mode": {
    "name": "ipython",
    "version": 3
   },
   "file_extension": ".py",
   "mimetype": "text/x-python",
   "name": "python",
   "nbconvert_exporter": "python",
   "pygments_lexer": "ipython3",
   "version": "3.8.5"
  },
  "toc": {
   "base_numbering": 1,
   "nav_menu": {},
   "number_sections": true,
   "sideBar": true,
   "skip_h1_title": false,
   "title_cell": "Table of Contents",
   "title_sidebar": "Contents",
   "toc_cell": false,
   "toc_position": {},
   "toc_section_display": true,
   "toc_window_display": false
  },
  "varInspector": {
   "cols": {
    "lenName": 16,
    "lenType": 16,
    "lenVar": 40
   },
   "kernels_config": {
    "python": {
     "delete_cmd_postfix": "",
     "delete_cmd_prefix": "del ",
     "library": "var_list.py",
     "varRefreshCmd": "print(var_dic_list())"
    },
    "r": {
     "delete_cmd_postfix": ") ",
     "delete_cmd_prefix": "rm(",
     "library": "var_list.r",
     "varRefreshCmd": "cat(var_dic_list()) "
    }
   },
   "types_to_exclude": [
    "module",
    "function",
    "builtin_function_or_method",
    "instance",
    "_Feature"
   ],
   "window_display": false
  }
 },
 "nbformat": 4,
 "nbformat_minor": 4
}
